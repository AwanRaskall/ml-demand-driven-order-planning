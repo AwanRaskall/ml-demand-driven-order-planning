{
 "cells": [
  {
   "cell_type": "code",
   "execution_count": 1,
   "id": "5bf39044",
   "metadata": {},
   "outputs": [],
   "source": [
    "import pandas as pd"
   ]
  },
  {
   "cell_type": "markdown",
   "id": "1c1b1b25",
   "metadata": {},
   "source": [
    "Based on the 'retail-demand-analysis' project, Center №13 was identified as the most active in terms of order frequency and volume. Therefore, it has been selected as the primary focus for our forecasting model since:\n",
    "\n",
    "1. More data → More orders means more historical data for the model, which means better forecast quality.\n",
    "2. Pattern stability → Stores with high activity tend to have more predictable trends.\n",
    "3. Minimize outliers → Stores with high costs but low orders may have unstable purchases, which will make forecasting more difficult."
   ]
  },
  {
   "cell_type": "markdown",
   "id": "cdebdc99",
   "metadata": {},
   "source": [
    "1. Data import and first acquaintance with data"
   ]
  },
  {
   "cell_type": "code",
   "execution_count": 2,
   "id": "8ed7cc6d",
   "metadata": {},
   "outputs": [
    {
     "data": {
      "text/html": [
       "<div>\n",
       "<style scoped>\n",
       "    .dataframe tbody tr th:only-of-type {\n",
       "        vertical-align: middle;\n",
       "    }\n",
       "\n",
       "    .dataframe tbody tr th {\n",
       "        vertical-align: top;\n",
       "    }\n",
       "\n",
       "    .dataframe thead th {\n",
       "        text-align: right;\n",
       "    }\n",
       "</style>\n",
       "<table border=\"1\" class=\"dataframe\">\n",
       "  <thead>\n",
       "    <tr style=\"text-align: right;\">\n",
       "      <th></th>\n",
       "      <th>id</th>\n",
       "      <th>week</th>\n",
       "      <th>center_id</th>\n",
       "      <th>meal_id</th>\n",
       "      <th>checkout_price</th>\n",
       "      <th>base_price</th>\n",
       "      <th>emailer_for_promotion</th>\n",
       "      <th>homepage_featured</th>\n",
       "      <th>num_orders</th>\n",
       "    </tr>\n",
       "  </thead>\n",
       "  <tbody>\n",
       "    <tr>\n",
       "      <th>0</th>\n",
       "      <td>1171094</td>\n",
       "      <td>1</td>\n",
       "      <td>13</td>\n",
       "      <td>1885</td>\n",
       "      <td>135.86</td>\n",
       "      <td>122.28</td>\n",
       "      <td>0</td>\n",
       "      <td>1</td>\n",
       "      <td>2132</td>\n",
       "    </tr>\n",
       "    <tr>\n",
       "      <th>1</th>\n",
       "      <td>1068455</td>\n",
       "      <td>1</td>\n",
       "      <td>13</td>\n",
       "      <td>1993</td>\n",
       "      <td>134.86</td>\n",
       "      <td>122.28</td>\n",
       "      <td>0</td>\n",
       "      <td>1</td>\n",
       "      <td>2418</td>\n",
       "    </tr>\n",
       "    <tr>\n",
       "      <th>2</th>\n",
       "      <td>1105491</td>\n",
       "      <td>1</td>\n",
       "      <td>13</td>\n",
       "      <td>2539</td>\n",
       "      <td>133.86</td>\n",
       "      <td>133.86</td>\n",
       "      <td>0</td>\n",
       "      <td>0</td>\n",
       "      <td>474</td>\n",
       "    </tr>\n",
       "    <tr>\n",
       "      <th>3</th>\n",
       "      <td>1486384</td>\n",
       "      <td>1</td>\n",
       "      <td>13</td>\n",
       "      <td>2139</td>\n",
       "      <td>337.62</td>\n",
       "      <td>437.53</td>\n",
       "      <td>0</td>\n",
       "      <td>0</td>\n",
       "      <td>123</td>\n",
       "    </tr>\n",
       "    <tr>\n",
       "      <th>4</th>\n",
       "      <td>1345938</td>\n",
       "      <td>1</td>\n",
       "      <td>13</td>\n",
       "      <td>2631</td>\n",
       "      <td>252.23</td>\n",
       "      <td>437.47</td>\n",
       "      <td>0</td>\n",
       "      <td>0</td>\n",
       "      <td>162</td>\n",
       "    </tr>\n",
       "    <tr>\n",
       "      <th>...</th>\n",
       "      <td>...</td>\n",
       "      <td>...</td>\n",
       "      <td>...</td>\n",
       "      <td>...</td>\n",
       "      <td>...</td>\n",
       "      <td>...</td>\n",
       "      <td>...</td>\n",
       "      <td>...</td>\n",
       "      <td>...</td>\n",
       "    </tr>\n",
       "    <tr>\n",
       "      <th>7041</th>\n",
       "      <td>1385493</td>\n",
       "      <td>145</td>\n",
       "      <td>13</td>\n",
       "      <td>1543</td>\n",
       "      <td>484.03</td>\n",
       "      <td>485.03</td>\n",
       "      <td>0</td>\n",
       "      <td>0</td>\n",
       "      <td>270</td>\n",
       "    </tr>\n",
       "    <tr>\n",
       "      <th>7042</th>\n",
       "      <td>1076678</td>\n",
       "      <td>145</td>\n",
       "      <td>13</td>\n",
       "      <td>2304</td>\n",
       "      <td>486.03</td>\n",
       "      <td>485.03</td>\n",
       "      <td>0</td>\n",
       "      <td>0</td>\n",
       "      <td>149</td>\n",
       "    </tr>\n",
       "    <tr>\n",
       "      <th>7043</th>\n",
       "      <td>1012260</td>\n",
       "      <td>145</td>\n",
       "      <td>13</td>\n",
       "      <td>2664</td>\n",
       "      <td>241.59</td>\n",
       "      <td>335.62</td>\n",
       "      <td>0</td>\n",
       "      <td>0</td>\n",
       "      <td>770</td>\n",
       "    </tr>\n",
       "    <tr>\n",
       "      <th>7044</th>\n",
       "      <td>1268089</td>\n",
       "      <td>145</td>\n",
       "      <td>13</td>\n",
       "      <td>2569</td>\n",
       "      <td>241.53</td>\n",
       "      <td>337.56</td>\n",
       "      <td>0</td>\n",
       "      <td>0</td>\n",
       "      <td>798</td>\n",
       "    </tr>\n",
       "    <tr>\n",
       "      <th>7045</th>\n",
       "      <td>1361414</td>\n",
       "      <td>145</td>\n",
       "      <td>13</td>\n",
       "      <td>2490</td>\n",
       "      <td>291.03</td>\n",
       "      <td>292.03</td>\n",
       "      <td>0</td>\n",
       "      <td>0</td>\n",
       "      <td>418</td>\n",
       "    </tr>\n",
       "  </tbody>\n",
       "</table>\n",
       "<p>7046 rows × 9 columns</p>\n",
       "</div>"
      ],
      "text/plain": [
       "           id  week  center_id  meal_id  checkout_price  base_price  \\\n",
       "0     1171094     1         13     1885          135.86      122.28   \n",
       "1     1068455     1         13     1993          134.86      122.28   \n",
       "2     1105491     1         13     2539          133.86      133.86   \n",
       "3     1486384     1         13     2139          337.62      437.53   \n",
       "4     1345938     1         13     2631          252.23      437.47   \n",
       "...       ...   ...        ...      ...             ...         ...   \n",
       "7041  1385493   145         13     1543          484.03      485.03   \n",
       "7042  1076678   145         13     2304          486.03      485.03   \n",
       "7043  1012260   145         13     2664          241.59      335.62   \n",
       "7044  1268089   145         13     2569          241.53      337.56   \n",
       "7045  1361414   145         13     2490          291.03      292.03   \n",
       "\n",
       "      emailer_for_promotion  homepage_featured  num_orders  \n",
       "0                         0                  1        2132  \n",
       "1                         0                  1        2418  \n",
       "2                         0                  0         474  \n",
       "3                         0                  0         123  \n",
       "4                         0                  0         162  \n",
       "...                     ...                ...         ...  \n",
       "7041                      0                  0         270  \n",
       "7042                      0                  0         149  \n",
       "7043                      0                  0         770  \n",
       "7044                      0                  0         798  \n",
       "7045                      0                  0         418  \n",
       "\n",
       "[7046 rows x 9 columns]"
      ]
     },
     "execution_count": 2,
     "metadata": {},
     "output_type": "execute_result"
    }
   ],
   "source": [
    "df = pd.read_csv('Food Demand Dataset/food_demand.csv')\n",
    "df_orders = df[df['center_id'] == 13].reset_index(drop = True)\n",
    "df_orders"
   ]
  },
  {
   "cell_type": "code",
   "execution_count": 3,
   "id": "debaecfd",
   "metadata": {},
   "outputs": [
    {
     "name": "stdout",
     "output_type": "stream",
     "text": [
      "<class 'pandas.core.frame.DataFrame'>\n",
      "RangeIndex: 7046 entries, 0 to 7045\n",
      "Data columns (total 9 columns):\n",
      " #   Column                 Non-Null Count  Dtype  \n",
      "---  ------                 --------------  -----  \n",
      " 0   id                     7046 non-null   int64  \n",
      " 1   week                   7046 non-null   int64  \n",
      " 2   center_id              7046 non-null   int64  \n",
      " 3   meal_id                7046 non-null   int64  \n",
      " 4   checkout_price         7046 non-null   float64\n",
      " 5   base_price             7046 non-null   float64\n",
      " 6   emailer_for_promotion  7046 non-null   int64  \n",
      " 7   homepage_featured      7046 non-null   int64  \n",
      " 8   num_orders             7046 non-null   int64  \n",
      "dtypes: float64(2), int64(7)\n",
      "memory usage: 495.6 KB\n"
     ]
    }
   ],
   "source": [
    "df_orders.info()"
   ]
  },
  {
   "cell_type": "markdown",
   "id": "8102cab7",
   "metadata": {},
   "source": [
    "1.1. The center description"
   ]
  },
  {
   "cell_type": "code",
   "execution_count": 4,
   "id": "a14476ac",
   "metadata": {},
   "outputs": [
    {
     "data": {
      "text/html": [
       "<div>\n",
       "<style scoped>\n",
       "    .dataframe tbody tr th:only-of-type {\n",
       "        vertical-align: middle;\n",
       "    }\n",
       "\n",
       "    .dataframe tbody tr th {\n",
       "        vertical-align: top;\n",
       "    }\n",
       "\n",
       "    .dataframe thead th {\n",
       "        text-align: right;\n",
       "    }\n",
       "</style>\n",
       "<table border=\"1\" class=\"dataframe\">\n",
       "  <thead>\n",
       "    <tr style=\"text-align: right;\">\n",
       "      <th></th>\n",
       "      <th>center_id</th>\n",
       "      <th>city_code</th>\n",
       "      <th>region_code</th>\n",
       "      <th>center_type</th>\n",
       "      <th>op_area</th>\n",
       "    </tr>\n",
       "  </thead>\n",
       "  <tbody>\n",
       "    <tr>\n",
       "      <th>1</th>\n",
       "      <td>13</td>\n",
       "      <td>590</td>\n",
       "      <td>56</td>\n",
       "      <td>TYPE_B</td>\n",
       "      <td>6.7</td>\n",
       "    </tr>\n",
       "  </tbody>\n",
       "</table>\n",
       "</div>"
      ],
      "text/plain": [
       "   center_id  city_code  region_code center_type  op_area\n",
       "1         13        590           56      TYPE_B      6.7"
      ]
     },
     "execution_count": 4,
     "metadata": {},
     "output_type": "execute_result"
    }
   ],
   "source": [
    "df_center = pd.read_csv('Food Demand Dataset/fulfilment_center_info.csv')\n",
    "df_center[df_center['center_id'] == 13]"
   ]
  },
  {
   "cell_type": "code",
   "execution_count": 5,
   "id": "c2575aa6",
   "metadata": {},
   "outputs": [
    {
     "name": "stdout",
     "output_type": "stream",
     "text": [
      "Total number of products ordered by center 13: 4296545\n"
     ]
    }
   ],
   "source": [
    "num_meals = df_orders['num_orders'].sum()\n",
    "print(f'Total number of products ordered by center 13: {num_meals}')"
   ]
  },
  {
   "cell_type": "code",
   "execution_count": 6,
   "id": "78cd6e74",
   "metadata": {},
   "outputs": [
    {
     "name": "stdout",
     "output_type": "stream",
     "text": [
      "Total costs of orders for all products by center 13: 1127045001.1799998\n"
     ]
    }
   ],
   "source": [
    "df_orders['Total costs'] = df_orders.checkout_price * df_orders.num_orders\n",
    "\n",
    "total_costs_orders = df_orders['Total costs'].sum()\n",
    "print(f'Total costs of orders for all products by center 13: {total_costs_orders}')"
   ]
  },
  {
   "cell_type": "markdown",
   "id": "6b261e54",
   "metadata": {},
   "source": [
    "Thus, the Center №13 based in city №590 and being B-type class made 7 046 orders for 4 296 545 units of products and for a total of 1 127 045 001,18 conventional monetary units over 145 weeks"
   ]
  },
  {
   "cell_type": "markdown",
   "id": "2ee1b8fd",
   "metadata": {},
   "source": [
    "1.2. The meal description"
   ]
  },
  {
   "cell_type": "markdown",
   "id": "13ac2d57",
   "metadata": {},
   "source": [
    "To create a forecasting model, we will focus on one type of product that was ordered most often or in large volumes"
   ]
  },
  {
   "cell_type": "code",
   "execution_count": 7,
   "id": "2d8ea6d0",
   "metadata": {},
   "outputs": [
    {
     "data": {
      "text/html": [
       "<div>\n",
       "<style scoped>\n",
       "    .dataframe tbody tr th:only-of-type {\n",
       "        vertical-align: middle;\n",
       "    }\n",
       "\n",
       "    .dataframe tbody tr th {\n",
       "        vertical-align: top;\n",
       "    }\n",
       "\n",
       "    .dataframe thead th {\n",
       "        text-align: right;\n",
       "    }\n",
       "</style>\n",
       "<table border=\"1\" class=\"dataframe\">\n",
       "  <thead>\n",
       "    <tr style=\"text-align: right;\">\n",
       "      <th></th>\n",
       "      <th>meal_id</th>\n",
       "      <th>num_orders</th>\n",
       "    </tr>\n",
       "  </thead>\n",
       "  <tbody>\n",
       "    <tr>\n",
       "      <th>0</th>\n",
       "      <td>1062</td>\n",
       "      <td>145</td>\n",
       "    </tr>\n",
       "    <tr>\n",
       "      <th>1</th>\n",
       "      <td>1109</td>\n",
       "      <td>145</td>\n",
       "    </tr>\n",
       "    <tr>\n",
       "      <th>2</th>\n",
       "      <td>1198</td>\n",
       "      <td>145</td>\n",
       "    </tr>\n",
       "    <tr>\n",
       "      <th>3</th>\n",
       "      <td>1445</td>\n",
       "      <td>145</td>\n",
       "    </tr>\n",
       "    <tr>\n",
       "      <th>4</th>\n",
       "      <td>1311</td>\n",
       "      <td>145</td>\n",
       "    </tr>\n",
       "    <tr>\n",
       "      <th>5</th>\n",
       "      <td>1778</td>\n",
       "      <td>145</td>\n",
       "    </tr>\n",
       "    <tr>\n",
       "      <th>6</th>\n",
       "      <td>1558</td>\n",
       "      <td>145</td>\n",
       "    </tr>\n",
       "    <tr>\n",
       "      <th>7</th>\n",
       "      <td>1727</td>\n",
       "      <td>145</td>\n",
       "    </tr>\n",
       "    <tr>\n",
       "      <th>8</th>\n",
       "      <td>1754</td>\n",
       "      <td>145</td>\n",
       "    </tr>\n",
       "    <tr>\n",
       "      <th>9</th>\n",
       "      <td>2707</td>\n",
       "      <td>145</td>\n",
       "    </tr>\n",
       "  </tbody>\n",
       "</table>\n",
       "</div>"
      ],
      "text/plain": [
       "   meal_id  num_orders\n",
       "0     1062         145\n",
       "1     1109         145\n",
       "2     1198         145\n",
       "3     1445         145\n",
       "4     1311         145\n",
       "5     1778         145\n",
       "6     1558         145\n",
       "7     1727         145\n",
       "8     1754         145\n",
       "9     2707         145"
      ]
     },
     "execution_count": 7,
     "metadata": {},
     "output_type": "execute_result"
    }
   ],
   "source": [
    "meals_num_orders = df_orders.groupby('meal_id').size().reset_index(name='num_orders')\n",
    "meals_num_orders = meals_num_orders.sort_values(by = 'num_orders', ascending = False).reset_index(drop = True)\n",
    "\n",
    "top_meal_orders = meals_num_orders.head(10)\n",
    "top_meal_orders"
   ]
  },
  {
   "cell_type": "markdown",
   "id": "673161fb",
   "metadata": {},
   "source": [
    "Since the number of orders for each product is equal, then let's calculate which product was ordered the largest number of units"
   ]
  },
  {
   "cell_type": "code",
   "execution_count": 8,
   "id": "72db6488",
   "metadata": {},
   "outputs": [
    {
     "name": "stdout",
     "output_type": "stream",
     "text": [
      "The product with the highest number of units ordered was meal №1885, amounting to 334334 units\n"
     ]
    }
   ],
   "source": [
    "meals_num_units = df_orders.groupby('meal_id')['num_orders'].sum().reset_index(name='num_orders')\n",
    "meals_num_units = meals_num_units.sort_values(by = 'num_orders', ascending = False).reset_index(drop = True)\n",
    "\n",
    "top_meal_units = meals_num_units.head(1)\n",
    "print(f'The product with the highest number of units ordered was meal №{top_meal_units.iloc[0,0]}, amounting to {top_meal_units.iloc[0,1]} units')"
   ]
  },
  {
   "cell_type": "code",
   "execution_count": 9,
   "id": "4ffb67e7",
   "metadata": {},
   "outputs": [
    {
     "data": {
      "text/html": [
       "<div>\n",
       "<style scoped>\n",
       "    .dataframe tbody tr th:only-of-type {\n",
       "        vertical-align: middle;\n",
       "    }\n",
       "\n",
       "    .dataframe tbody tr th {\n",
       "        vertical-align: top;\n",
       "    }\n",
       "\n",
       "    .dataframe thead th {\n",
       "        text-align: right;\n",
       "    }\n",
       "</style>\n",
       "<table border=\"1\" class=\"dataframe\">\n",
       "  <thead>\n",
       "    <tr style=\"text-align: right;\">\n",
       "      <th></th>\n",
       "      <th>meal_id</th>\n",
       "      <th>category</th>\n",
       "      <th>cuisine</th>\n",
       "    </tr>\n",
       "  </thead>\n",
       "  <tbody>\n",
       "    <tr>\n",
       "      <th>0</th>\n",
       "      <td>1885</td>\n",
       "      <td>Beverages</td>\n",
       "      <td>Thai</td>\n",
       "    </tr>\n",
       "  </tbody>\n",
       "</table>\n",
       "</div>"
      ],
      "text/plain": [
       "   meal_id   category cuisine\n",
       "0     1885  Beverages    Thai"
      ]
     },
     "execution_count": 9,
     "metadata": {},
     "output_type": "execute_result"
    }
   ],
   "source": [
    "df_meal = pd.read_csv('Food Demand Dataset/meal_info.csv')\n",
    "df_meal[df_meal['meal_id'] == 1885]"
   ]
  },
  {
   "cell_type": "markdown",
   "id": "fe187c25",
   "metadata": {},
   "source": [
    "To sum up, the most popular product in Center №13 was the Thai drink №1885. Given it was consistently ordered over 145 weeks with a total volume of 334 334 units across 145 separate orders, it demonstrates both long-term demand stability and high order frequency.\n",
    "\n",
    "These characteristics make it a strong candidate for time series forecasting, as the volume and regularity of historical data provide a solid foundation for building a reliable and accurate predictive model."
   ]
  },
  {
   "cell_type": "markdown",
   "id": "b0897823",
   "metadata": {},
   "source": [
    "2. Data cleaning"
   ]
  },
  {
   "cell_type": "markdown",
   "id": "e01d88e2",
   "metadata": {},
   "source": [
    "Due to the 'retail-demand-analysis' project we can note that:\n",
    "1) There is no one column in the table that has NaN value;\n",
    "2) No duplicate column/row values ​​in the table;\n",
    "3) Column 'id' has only unique values.\n",
    "\n",
    "We need:\n",
    "1) Delete unnecessary columns and rows;\n",
    "2) Rename columns so they express clear meaning."
   ]
  },
  {
   "cell_type": "code",
   "execution_count": 10,
   "id": "8e5e416d",
   "metadata": {},
   "outputs": [],
   "source": [
    "# Remove unrequired rows\n",
    "df_orders = df_orders.loc[df_orders['meal_id'] == 1885]"
   ]
  },
  {
   "cell_type": "code",
   "execution_count": 11,
   "id": "c0b4b69d",
   "metadata": {},
   "outputs": [],
   "source": [
    "# Remove unrequired columns\n",
    "del df_orders['emailer_for_promotion']\n",
    "del df_orders['homepage_featured']\n",
    "del df_orders['center_id']\n",
    "del df_orders['meal_id']"
   ]
  },
  {
   "cell_type": "code",
   "execution_count": 12,
   "id": "ef55c070",
   "metadata": {},
   "outputs": [],
   "source": [
    "# Rename columns\n",
    "df_orders = df_orders.rename(columns={'num_orders': 'num_units'})"
   ]
  },
  {
   "cell_type": "code",
   "execution_count": 13,
   "id": "336a6ccc",
   "metadata": {},
   "outputs": [
    {
     "name": "stdout",
     "output_type": "stream",
     "text": [
      "<class 'pandas.core.frame.DataFrame'>\n",
      "Index: 145 entries, 0 to 6995\n",
      "Data columns (total 6 columns):\n",
      " #   Column          Non-Null Count  Dtype  \n",
      "---  ------          --------------  -----  \n",
      " 0   id              145 non-null    int64  \n",
      " 1   week            145 non-null    int64  \n",
      " 2   checkout_price  145 non-null    float64\n",
      " 3   base_price      145 non-null    float64\n",
      " 4   num_units       145 non-null    int64  \n",
      " 5   Total costs     145 non-null    float64\n",
      "dtypes: float64(3), int64(3)\n",
      "memory usage: 7.9 KB\n"
     ]
    }
   ],
   "source": [
    "df_orders.info()"
   ]
  },
  {
   "cell_type": "code",
   "execution_count": 14,
   "id": "a767946f",
   "metadata": {},
   "outputs": [
    {
     "data": {
      "text/html": [
       "<div>\n",
       "<style scoped>\n",
       "    .dataframe tbody tr th:only-of-type {\n",
       "        vertical-align: middle;\n",
       "    }\n",
       "\n",
       "    .dataframe tbody tr th {\n",
       "        vertical-align: top;\n",
       "    }\n",
       "\n",
       "    .dataframe thead th {\n",
       "        text-align: right;\n",
       "    }\n",
       "</style>\n",
       "<table border=\"1\" class=\"dataframe\">\n",
       "  <thead>\n",
       "    <tr style=\"text-align: right;\">\n",
       "      <th></th>\n",
       "      <th>id</th>\n",
       "      <th>week</th>\n",
       "      <th>checkout_price</th>\n",
       "      <th>base_price</th>\n",
       "      <th>num_units</th>\n",
       "      <th>Total costs</th>\n",
       "    </tr>\n",
       "  </thead>\n",
       "  <tbody>\n",
       "    <tr>\n",
       "      <th>0</th>\n",
       "      <td>1171094</td>\n",
       "      <td>1</td>\n",
       "      <td>135.86</td>\n",
       "      <td>122.28</td>\n",
       "      <td>2132</td>\n",
       "      <td>289653.52</td>\n",
       "    </tr>\n",
       "    <tr>\n",
       "      <th>45</th>\n",
       "      <td>1295835</td>\n",
       "      <td>2</td>\n",
       "      <td>135.86</td>\n",
       "      <td>121.28</td>\n",
       "      <td>1891</td>\n",
       "      <td>256911.26</td>\n",
       "    </tr>\n",
       "    <tr>\n",
       "      <th>90</th>\n",
       "      <td>1429724</td>\n",
       "      <td>3</td>\n",
       "      <td>133.86</td>\n",
       "      <td>122.28</td>\n",
       "      <td>2067</td>\n",
       "      <td>276688.62</td>\n",
       "    </tr>\n",
       "    <tr>\n",
       "      <th>135</th>\n",
       "      <td>1197234</td>\n",
       "      <td>4</td>\n",
       "      <td>134.86</td>\n",
       "      <td>122.28</td>\n",
       "      <td>2472</td>\n",
       "      <td>333373.92</td>\n",
       "    </tr>\n",
       "    <tr>\n",
       "      <th>180</th>\n",
       "      <td>1469105</td>\n",
       "      <td>5</td>\n",
       "      <td>143.56</td>\n",
       "      <td>120.28</td>\n",
       "      <td>1863</td>\n",
       "      <td>267452.28</td>\n",
       "    </tr>\n",
       "    <tr>\n",
       "      <th>...</th>\n",
       "      <td>...</td>\n",
       "      <td>...</td>\n",
       "      <td>...</td>\n",
       "      <td>...</td>\n",
       "      <td>...</td>\n",
       "      <td>...</td>\n",
       "    </tr>\n",
       "    <tr>\n",
       "      <th>6791</th>\n",
       "      <td>1057276</td>\n",
       "      <td>141</td>\n",
       "      <td>151.38</td>\n",
       "      <td>150.38</td>\n",
       "      <td>3012</td>\n",
       "      <td>455956.56</td>\n",
       "    </tr>\n",
       "    <tr>\n",
       "      <th>6842</th>\n",
       "      <td>1296689</td>\n",
       "      <td>142</td>\n",
       "      <td>151.38</td>\n",
       "      <td>150.38</td>\n",
       "      <td>2848</td>\n",
       "      <td>431130.24</td>\n",
       "    </tr>\n",
       "    <tr>\n",
       "      <th>6893</th>\n",
       "      <td>1255671</td>\n",
       "      <td>143</td>\n",
       "      <td>150.41</td>\n",
       "      <td>149.38</td>\n",
       "      <td>3172</td>\n",
       "      <td>477100.52</td>\n",
       "    </tr>\n",
       "    <tr>\n",
       "      <th>6944</th>\n",
       "      <td>1038807</td>\n",
       "      <td>144</td>\n",
       "      <td>150.38</td>\n",
       "      <td>151.38</td>\n",
       "      <td>2403</td>\n",
       "      <td>361363.14</td>\n",
       "    </tr>\n",
       "    <tr>\n",
       "      <th>6995</th>\n",
       "      <td>1137775</td>\n",
       "      <td>145</td>\n",
       "      <td>159.14</td>\n",
       "      <td>151.38</td>\n",
       "      <td>2822</td>\n",
       "      <td>449093.08</td>\n",
       "    </tr>\n",
       "  </tbody>\n",
       "</table>\n",
       "<p>145 rows × 6 columns</p>\n",
       "</div>"
      ],
      "text/plain": [
       "           id  week  checkout_price  base_price  num_units  Total costs\n",
       "0     1171094     1          135.86      122.28       2132    289653.52\n",
       "45    1295835     2          135.86      121.28       1891    256911.26\n",
       "90    1429724     3          133.86      122.28       2067    276688.62\n",
       "135   1197234     4          134.86      122.28       2472    333373.92\n",
       "180   1469105     5          143.56      120.28       1863    267452.28\n",
       "...       ...   ...             ...         ...        ...          ...\n",
       "6791  1057276   141          151.38      150.38       3012    455956.56\n",
       "6842  1296689   142          151.38      150.38       2848    431130.24\n",
       "6893  1255671   143          150.41      149.38       3172    477100.52\n",
       "6944  1038807   144          150.38      151.38       2403    361363.14\n",
       "6995  1137775   145          159.14      151.38       2822    449093.08\n",
       "\n",
       "[145 rows x 6 columns]"
      ]
     },
     "execution_count": 14,
     "metadata": {},
     "output_type": "execute_result"
    }
   ],
   "source": [
    "df_orders"
   ]
  },
  {
   "cell_type": "markdown",
   "id": "a5610aeb",
   "metadata": {},
   "source": [
    "3. Modeling"
   ]
  },
  {
   "cell_type": "markdown",
   "id": "97349875",
   "metadata": {},
   "source": [
    "3.1. Preparation"
   ]
  },
  {
   "cell_type": "markdown",
   "id": "a75b5e7a",
   "metadata": {},
   "source": [
    "Creating functions for those actions that will be repeated several times"
   ]
  },
  {
   "cell_type": "code",
   "execution_count": null,
   "id": "415dfd7d",
   "metadata": {},
   "outputs": [],
   "source": []
  }
 ],
 "metadata": {
  "kernelspec": {
   "display_name": "Python 3",
   "language": "python",
   "name": "python3"
  },
  "language_info": {
   "codemirror_mode": {
    "name": "ipython",
    "version": 3
   },
   "file_extension": ".py",
   "mimetype": "text/x-python",
   "name": "python",
   "nbconvert_exporter": "python",
   "pygments_lexer": "ipython3",
   "version": "3.12.6"
  }
 },
 "nbformat": 4,
 "nbformat_minor": 5
}
